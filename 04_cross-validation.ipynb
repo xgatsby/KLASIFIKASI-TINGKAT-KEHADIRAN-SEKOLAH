{
 "cells": [
  {
   "cell_type": "markdown",
   "id": "023a8bcb",
   "metadata": {},
   "source": [
    "# 5-Fold Stratified CV"
   ]
  },
  {
   "cell_type": "code",
   "execution_count": 14,
   "id": "deacff9f-af56-4fa7-b4c1-878d92216499",
   "metadata": {},
   "outputs": [],
   "source": [
    "import numpy as np\n",
    "import pandas as pd"
   ]
  },
  {
   "cell_type": "code",
   "execution_count": 15,
   "id": "27067d32-07d5-4b5f-b154-e4f348727c1c",
   "metadata": {},
   "outputs": [],
   "source": [
    "# — Mulai block pembuatan & preprocessing data dummy —\n",
    "np.random.seed(42)\n",
    "n = 100\n",
    "data = {'Enrolled': np.random.randint(300, 1200, n)}\n",
    "data['Present'] = [int(e * np.random.uniform(0.7, 0.98)) for e in data['Enrolled']]\n",
    "data['Absent']  = [int(e * np.random.uniform(0.01, 0.2)) for e in data['Enrolled']]\n",
    "for i in range(n):\n",
    "    if data['Present'][i] + data['Absent'][i] > data['Enrolled'][i]:\n",
    "        data['Absent'][i] = data['Enrolled'][i] - data['Present'][i]\n",
    "data['Released_Early'] = [\n",
    "    data['Enrolled'][i] - data['Present'][i] - data['Absent'][i] for i in range(n)\n",
    "]\n",
    "df = pd.DataFrame(data)\n"
   ]
  },
  {
   "cell_type": "code",
   "execution_count": 16,
   "id": "c34b27d8-49c2-421b-9037-9b303ae011d1",
   "metadata": {},
   "outputs": [],
   "source": [
    "# Feature engineering & labeling\n",
    "df['Attendance_Rate']       = df['Present'] / df['Enrolled'] * 100\n",
    "df['Absence_Rate']          = df['Absent']   / df['Enrolled'] * 100\n",
    "df['Early_Release_Rate']    = df['Released_Early'] / df['Enrolled'] * 100\n",
    "df['Attendance_Label']      = df['Attendance_Rate'].apply(lambda x: 'High' if x>=90 else 'Low')\n",
    "# — Selesai block —"
   ]
  },
  {
   "cell_type": "code",
   "execution_count": 17,
   "id": "811c9018-a425-4dba-b934-a3ed186d37c1",
   "metadata": {},
   "outputs": [],
   "source": [
    "from sklearn.model_selection import StratifiedKFold\n",
    "# ... dll\n",
    "\n",
    "X = df[['Attendance_Rate', 'Absence_Rate', 'Early_Release_Rate']]\n",
    "y = df['Attendance_Label'].map({'High':1,'Low':0})"
   ]
  },
  {
   "cell_type": "code",
   "execution_count": 22,
   "id": "fbaaa664-8449-4186-a69c-a4c70ccb1552",
   "metadata": {},
   "outputs": [],
   "source": [
    "skf = StratifiedKFold(n_splits=5, shuffle=True, random_state=42)\n",
    "\n",
    "cv_accuracy = []\n",
    "cv_precision = []\n",
    "cv_recall = []\n",
    "cv_f1 = []"
   ]
  },
  {
   "cell_type": "code",
   "execution_count": 19,
   "id": "4f4e0f42-8912-41b5-ab44-b42296e9a166",
   "metadata": {},
   "outputs": [
    {
     "name": "stdout",
     "output_type": "stream",
     "text": [
      "Fold 1:\n",
      "  Accuracy : 0.9500\n",
      "  Precision: 0.8333\n",
      "  Recall   : 1.0000\n",
      "  F1-Score : 0.9091\\n\n",
      "Fold 2:\n",
      "  Accuracy : 1.0000\n",
      "  Precision: 1.0000\n",
      "  Recall   : 1.0000\n",
      "  F1-Score : 1.0000\\n\n",
      "Fold 3:\n",
      "  Accuracy : 1.0000\n",
      "  Precision: 1.0000\n",
      "  Recall   : 1.0000\n",
      "  F1-Score : 1.0000\\n\n",
      "Fold 4:\n",
      "  Accuracy : 0.9000\n",
      "  Precision: 0.8333\n",
      "  Recall   : 0.8333\n",
      "  F1-Score : 0.8333\\n\n",
      "Fold 5:\n",
      "  Accuracy : 1.0000\n",
      "  Precision: 1.0000\n",
      "  Recall   : 1.0000\n",
      "  F1-Score : 1.0000\\n\n"
     ]
    }
   ],
   "source": [
    "fold = 1\n",
    "for train_index, test_index in skf.split(X, y):\n",
    "    # Split data\n",
    "    X_train_fold, X_test_fold = X.iloc[train_index], X.iloc[test_index]\n",
    "    y_train_fold, y_test_fold = y.iloc[train_index], y.iloc[test_index]\n",
    "    \n",
    "    # Standarisasi\n",
    "    scaler = StandardScaler()\n",
    "    X_train_fold_scaled = scaler.fit_transform(X_train_fold)\n",
    "    X_test_fold_scaled = scaler.transform(X_test_fold)\n",
    "    \n",
    "    # Training\n",
    "    model = GaussianNB()\n",
    "    model.fit(X_train_fold_scaled, y_train_fold)\n",
    "    \n",
    "    # Prediksi\n",
    "    y_pred_fold = model.predict(X_test_fold_scaled)\n",
    "    \n",
    "    # Evaluasi\n",
    "    acc = accuracy_score(y_test_fold, y_pred_fold)\n",
    "    prec = precision_score(y_test_fold, y_pred_fold)\n",
    "    rec = recall_score(y_test_fold, y_pred_fold)\n",
    "    f1 = f1_score(y_test_fold, y_pred_fold)\n",
    "    \n",
    "    # Simpan\n",
    "    cv_accuracy.append(acc)\n",
    "    cv_precision.append(prec)\n",
    "    cv_recall.append(rec)\n",
    "    cv_f1.append(f1)\n",
    "    \n",
    "    print(f\"Fold {fold}:\")\n",
    "    print(f\"  Accuracy : {acc:.4f}\")\n",
    "    print(f\"  Precision: {prec:.4f}\")\n",
    "    print(f\"  Recall   : {rec:.4f}\")\n",
    "    print(f\"  F1-Score : {f1:.4f}\\\\n\")\n",
    "    \n",
    "    fold += 1\n"
   ]
  },
  {
   "cell_type": "code",
   "execution_count": 21,
   "id": "4353f635-64c7-4a35-8131-0925ff5168d1",
   "metadata": {},
   "outputs": [
    {
     "name": "stdout",
     "output_type": "stream",
     "text": [
      "Rata-Rata 5-Fold CV:\n",
      "Accuracy : 0.9700\n",
      "Precision: 0.9333\n",
      "Recall   : 0.9667\n",
      "F1-Score : 0.9485\n"
     ]
    }
   ],
   "source": [
    "print(\"Rata-Rata 5-Fold CV:\")\n",
    "print(f\"Accuracy : {np.mean(cv_accuracy):.4f}\")\n",
    "print(f\"Precision: {np.mean(cv_precision):.4f}\")\n",
    "print(f\"Recall   : {np.mean(cv_recall):.4f}\")\n",
    "print(f\"F1-Score : {np.mean(cv_f1):.4f}\")"
   ]
  },
  {
   "cell_type": "markdown",
   "id": "f7acbb17-1662-4dcc-a40d-04da61de2f82",
   "metadata": {},
   "source": [
    "> Hasil 5-Fold Cross Validation menunjukkan bahwa model Gaussian Naïve Bayes memiliki performa yang **stabil** dan **konsisten** di seluruh fold.\n",
    "> Ini memberikan keyakinan bahwa model tidak overfit terhadap subset tertentu."
   ]
  },
  {
   "cell_type": "code",
   "execution_count": null,
   "id": "25df352d-fea0-458d-ae50-39cc55aa78dc",
   "metadata": {},
   "outputs": [],
   "source": []
  }
 ],
 "metadata": {
  "kernelspec": {
   "display_name": "Python 3 (ipykernel)",
   "language": "python",
   "name": "python3"
  },
  "language_info": {
   "codemirror_mode": {
    "name": "ipython",
    "version": 3
   },
   "file_extension": ".py",
   "mimetype": "text/x-python",
   "name": "python",
   "nbconvert_exporter": "python",
   "pygments_lexer": "ipython3",
   "version": "3.12.10"
  }
 },
 "nbformat": 4,
 "nbformat_minor": 5
}
