{
 "cells": [
  {
   "cell_type": "markdown",
   "id": "fb45e584",
   "metadata": {},
   "source": [
    "# Preprocessing & Feature Engineering"
   ]
  },
  {
   "cell_type": "code",
   "execution_count": 1,
   "id": "f9dcf633-83d6-44f5-8755-6c099f05cb1f",
   "metadata": {},
   "outputs": [],
   "source": [
    "import numpy as np\n",
    "import pandas as pd\n",
    "\n",
    "# — Mulai block pembuatan data dummy —\n",
    "np.random.seed(42)\n",
    "data = {\n",
    "    'School_ID': np.random.randint(1000, 9999, 10),\n",
    "    'Date': pd.date_range(start='2018-09-01', periods=10).strftime('%Y-%m-%d'),\n",
    "    'School_Name': [f'School {i}' for i in range(1, 11)],\n",
    "    'School_Level': np.random.choice(['Elementary', 'Middle', 'High', 'K-8'], 10),\n",
    "    'Enrolled': np.random.randint(300, 1200, 10),\n",
    "    'Present': [],\n",
    "    'Absent': [],\n",
    "    'Released_Early': []\n",
    "}\n",
    "for enrolled in data['Enrolled']:\n",
    "    present = int(enrolled * np.random.uniform(0.7, 0.98))\n",
    "    absent  = int(enrolled * np.random.uniform(0.01, 0.2))\n",
    "    if present + absent > enrolled:\n",
    "        absent -= (present + absent) - enrolled\n",
    "    released_early = enrolled - present - absent\n",
    "    data['Present'].append(present)\n",
    "    data['Absent'].append(absent)\n",
    "    data['Released_Early'].append(released_early)\n",
    "df = pd.DataFrame(data)\n",
    "# — Selesai block pembuatan data dummy —"
   ]
  },
  {
   "cell_type": "code",
   "execution_count": 2,
   "id": "ca6c8dcd-e44e-4cd3-88ec-7cec13779d72",
   "metadata": {},
   "outputs": [],
   "source": [
    "# Menghitung persentase kehadiran\n",
    "df['Attendance_Rate'] = df['Present'] / df['Enrolled'] * 100\n",
    "\n",
    "# Menghitung persentase ketidakhadiran\n",
    "df['Absence_Rate'] = df['Absent'] / df['Enrolled'] * 100\n",
    "\n",
    "# Menghitung persentase pulang lebih awal\n",
    "df['Early_Release_Rate'] = df['Released_Early'] / df['Enrolled'] * 100\n",
    "\n"
   ]
  },
  {
   "cell_type": "code",
   "execution_count": 3,
   "id": "9474c546-b6c4-4545-a01c-9db75c3dca5a",
   "metadata": {},
   "outputs": [
    {
     "data": {
      "text/html": [
       "<div>\n",
       "<style scoped>\n",
       "    .dataframe tbody tr th:only-of-type {\n",
       "        vertical-align: middle;\n",
       "    }\n",
       "\n",
       "    .dataframe tbody tr th {\n",
       "        vertical-align: top;\n",
       "    }\n",
       "\n",
       "    .dataframe thead th {\n",
       "        text-align: right;\n",
       "    }\n",
       "</style>\n",
       "<table border=\"1\" class=\"dataframe\">\n",
       "  <thead>\n",
       "    <tr style=\"text-align: right;\">\n",
       "      <th></th>\n",
       "      <th>School_Name</th>\n",
       "      <th>Enrolled</th>\n",
       "      <th>Present</th>\n",
       "      <th>Absent</th>\n",
       "      <th>Attendance_Rate</th>\n",
       "      <th>Absence_Rate</th>\n",
       "      <th>Early_Release_Rate</th>\n",
       "      <th>Attendance_Label</th>\n",
       "    </tr>\n",
       "  </thead>\n",
       "  <tbody>\n",
       "    <tr>\n",
       "      <th>0</th>\n",
       "      <td>School 1</td>\n",
       "      <td>576</td>\n",
       "      <td>501</td>\n",
       "      <td>21</td>\n",
       "      <td>86.979167</td>\n",
       "      <td>3.645833</td>\n",
       "      <td>9.375000</td>\n",
       "      <td>Low</td>\n",
       "    </tr>\n",
       "    <tr>\n",
       "      <th>1</th>\n",
       "      <td>School 2</td>\n",
       "      <td>460</td>\n",
       "      <td>359</td>\n",
       "      <td>36</td>\n",
       "      <td>78.043478</td>\n",
       "      <td>7.826087</td>\n",
       "      <td>14.130435</td>\n",
       "      <td>Low</td>\n",
       "    </tr>\n",
       "    <tr>\n",
       "      <th>2</th>\n",
       "      <td>School 3</td>\n",
       "      <td>759</td>\n",
       "      <td>628</td>\n",
       "      <td>120</td>\n",
       "      <td>82.740448</td>\n",
       "      <td>15.810277</td>\n",
       "      <td>1.449275</td>\n",
       "      <td>Low</td>\n",
       "    </tr>\n",
       "    <tr>\n",
       "      <th>3</th>\n",
       "      <td>School 4</td>\n",
       "      <td>613</td>\n",
       "      <td>463</td>\n",
       "      <td>66</td>\n",
       "      <td>75.530179</td>\n",
       "      <td>10.766721</td>\n",
       "      <td>13.703100</td>\n",
       "      <td>Low</td>\n",
       "    </tr>\n",
       "    <tr>\n",
       "      <th>4</th>\n",
       "      <td>School 5</td>\n",
       "      <td>321</td>\n",
       "      <td>277</td>\n",
       "      <td>6</td>\n",
       "      <td>86.292835</td>\n",
       "      <td>1.869159</td>\n",
       "      <td>11.838006</td>\n",
       "      <td>Low</td>\n",
       "    </tr>\n",
       "  </tbody>\n",
       "</table>\n",
       "</div>"
      ],
      "text/plain": [
       "  School_Name  Enrolled  Present  Absent  Attendance_Rate  Absence_Rate  \\\n",
       "0    School 1       576      501      21        86.979167      3.645833   \n",
       "1    School 2       460      359      36        78.043478      7.826087   \n",
       "2    School 3       759      628     120        82.740448     15.810277   \n",
       "3    School 4       613      463      66        75.530179     10.766721   \n",
       "4    School 5       321      277       6        86.292835      1.869159   \n",
       "\n",
       "   Early_Release_Rate Attendance_Label  \n",
       "0            9.375000              Low  \n",
       "1           14.130435              Low  \n",
       "2            1.449275              Low  \n",
       "3           13.703100              Low  \n",
       "4           11.838006              Low  "
      ]
     },
     "execution_count": 3,
     "metadata": {},
     "output_type": "execute_result"
    }
   ],
   "source": [
    "# Labeling: High jika attendance ≥ 90%, sisanya Low\n",
    "df['Attendance_Label'] = df['Attendance_Rate'].apply(lambda x: 'High' if x >= 90 else 'Low')\n",
    "\n",
    "# Tampilkan beberapa baris hasil\n",
    "df[['School_Name', 'Enrolled', 'Present', 'Absent', \n",
    "    'Attendance_Rate', 'Absence_Rate', \n",
    "    'Early_Release_Rate', 'Attendance_Label']].head()\n"
   ]
  },
  {
   "cell_type": "markdown",
   "id": "37a80bab-c1d4-46b8-937c-d0037927e151",
   "metadata": {},
   "source": [
    "> Langkah ini menghasilkan tiga fitur utama untuk klasifikasi:\n",
    "> - `Attendance_Rate` = (Present / Enrolled) * 100\n",
    "> - `Absence_Rate` = (Absent / Enrolled) * 100\n",
    "> - `Early_Release_Rate` = (Released_Early / Enrolled) * 100\n",
    ">\n",
    "> Label target `Attendance_Label` berisi `High` jika kehadiran ≥ 90%, sisanya `Low`.\n"
   ]
  },
  {
   "cell_type": "code",
   "execution_count": 4,
   "id": "2a2e42bd-c71d-42da-80c8-fc2a0d5f53eb",
   "metadata": {},
   "outputs": [
    {
     "name": "stdout",
     "output_type": "stream",
     "text": [
      "✅ processed_dataset.csv berhasil dibuat di folder datasets/\n"
     ]
    }
   ],
   "source": [
    "# Simpan hasil preprocessing & labeling ke CSV\n",
    "df.to_csv(\"datasets/processed_dataset.csv\", index=False)\n",
    "print(\"✅ processed_dataset.csv berhasil dibuat di folder datasets/\")"
   ]
  },
  {
   "cell_type": "code",
   "execution_count": null,
   "id": "2e718f25-6950-4a13-9c61-0c569e9fde1a",
   "metadata": {},
   "outputs": [],
   "source": []
  }
 ],
 "metadata": {
  "kernelspec": {
   "display_name": "Python 3 (ipykernel)",
   "language": "python",
   "name": "python3"
  },
  "language_info": {
   "codemirror_mode": {
    "name": "ipython",
    "version": 3
   },
   "file_extension": ".py",
   "mimetype": "text/x-python",
   "name": "python",
   "nbconvert_exporter": "python",
   "pygments_lexer": "ipython3",
   "version": "3.12.10"
  }
 },
 "nbformat": 4,
 "nbformat_minor": 5
}