{
 "cells": [
  {
   "cell_type": "markdown",
   "id": "43fe2c5a",
   "metadata": {},
   "source": [
    "# Modeling & Evaluasi Dasar"
   ]
  },
  {
   "cell_type": "code",
   "execution_count": 1,
   "id": "0cc0bbbe-54df-4bf1-89ba-1283e6a2dcf2",
   "metadata": {},
   "outputs": [],
   "source": [
    "import numpy as np\n",
    "import pandas as pd"
   ]
  },
  {
   "cell_type": "code",
   "execution_count": 13,
   "id": "c7d8895c-1aaf-405b-afe9-3a57b0a89396",
   "metadata": {},
   "outputs": [],
   "source": [
    "from sklearn.model_selection import train_test_split\n",
    "from sklearn.preprocessing import StandardScaler\n",
    "from sklearn.naive_bayes import GaussianNB\n",
    "from sklearn.metrics import accuracy_score, precision_score, recall_score, f1_score, confusion_matrix\n",
    "\n",
    "# 1. Buat data dummy 100 baris untuk memastikan sebaran label memadai\n",
    "np.random.seed(42)\n",
    "n = 100\n",
    "data = {\n",
    "    'Enrolled': np.random.randint(300, 1200, n),\n",
    "}\n",
    "data['Present'] = [int(e * np.random.uniform(0.7, 0.98)) for e in data['Enrolled']]\n",
    "data['Absent'] = [int(e * np.random.uniform(0.01, 0.2)) for e in data['Enrolled']]\n",
    "# Koreksi agar Present + Absent <= Enrolled\n",
    "for i in range(n):\n",
    "    if data['Present'][i] + data['Absent'][i] > data['Enrolled'][i]:\n",
    "        data['Absent'][i] = data['Enrolled'][i] - data['Present'][i]\n",
    "data['Released_Early'] = [data['Enrolled'][i] - data['Present'][i] - data['Absent'][i] for i in range(n)]\n",
    "\n",
    "df = pd.DataFrame(data)"
   ]
  },
  {
   "cell_type": "code",
   "execution_count": 14,
   "id": "28f1c806-bf60-46ed-ad11-98990bb9b424",
   "metadata": {},
   "outputs": [],
   "source": [
    "# 2. Feature engineering & labeling\n",
    "df['Attendance_Rate'] = df['Present'] / df['Enrolled'] * 100\n",
    "df['Absence_Rate'] = df['Absent'] / df['Enrolled'] * 100\n",
    "df['Early_Release_Rate'] = df['Released_Early'] / df['Enrolled'] * 100\n",
    "df['Attendance_Label'] = df['Attendance_Rate'].apply(lambda x: 'High' if x >= 90 else 'Low')\n"
   ]
  },
  {
   "cell_type": "code",
   "execution_count": 15,
   "id": "4eae881c-a1cf-49e4-b3f0-7767065a307f",
   "metadata": {},
   "outputs": [],
   "source": [
    "# 3. Cek distribusi label:\n",
    "label_counts = df['Attendance_Label'].value_counts().to_frame('count')\n"
   ]
  },
  {
   "cell_type": "code",
   "execution_count": 16,
   "id": "57d7ad57-f2c6-4407-a0a5-425ef6fe0a01",
   "metadata": {},
   "outputs": [],
   "source": [
    "# 4. Split data dengan stratify\n",
    "X = df[['Attendance_Rate', 'Absence_Rate', 'Early_Release_Rate']]\n",
    "y = df['Attendance_Label'].map({'High': 1, 'Low': 0})\n",
    "\n",
    "X_train, X_test, y_train, y_test = train_test_split(\n",
    "    X, y, test_size=0.2, random_state=42, stratify=y\n",
    ")\n"
   ]
  },
  {
   "cell_type": "code",
   "execution_count": 17,
   "id": "4f7fb4f4-590e-45b6-bf31-bb0308d0cc0f",
   "metadata": {},
   "outputs": [],
   "source": [
    "# 5. Standardisasi\n",
    "scaler = StandardScaler()\n",
    "X_train_scaled = scaler.fit_transform(X_train)\n",
    "X_test_scaled = scaler.transform(X_test)\n"
   ]
  },
  {
   "cell_type": "code",
   "execution_count": 18,
   "id": "bbf308d1-3bb4-46d9-a02e-84da95e124f4",
   "metadata": {},
   "outputs": [
    {
     "data": {
      "image/png": "[encoded data removed]",
      "text/plain": [
       "<Figure size 600x400 with 1 Axes>"
      ]
     },
     "metadata": {},
     "output_type": "display_data"
    },
    {
     "data": {
      "text/plain": [
       "(                  count\n",
       " Attendance_Label       \n",
       " Low                  72\n",
       " High                 28,\n",
       " {'Accuracy': 1.0, 'Precision': 1.0, 'Recall': 1.0, 'F1-Score': 1.0})"
      ]
     },
     "execution_count": 18,
     "metadata": {},
     "output_type": "execute_result"
    }
   ],
   "source": [
    "# 6. Training & evaluasi\n",
    "model = GaussianNB()\n",
    "model.fit(X_train_scaled, y_train)\n",
    "y_pred = model.predict(X_test_scaled)\n",
    "\n",
    "metrics = {\n",
    "    'Accuracy': accuracy_score(y_test, y_pred),\n",
    "    'Precision': precision_score(y_test, y_pred),\n",
    "    'Recall': recall_score(y_test, y_pred),\n",
    "    'F1-Score': f1_score(y_test, y_pred)\n",
    "}\n",
    "\n",
    "import matplotlib.pyplot as plt\n",
    "plt.figure(figsize=(6, 4))\n",
    "plt.bar(metrics.keys(), metrics.values())\n",
    "plt.ylim(0, 1)\n",
    "plt.title(\"Metrik Evaluasi Model\")\n",
    "plt.show()\n",
    "\n",
    "label_counts, metrics"
   ]
  },
  {
   "cell_type": "code",
   "execution_count": null,
   "id": "4731c51e-bb47-4b8a-b61a-e510e1e7f6f6",
   "metadata": {},
   "outputs": [],
   "source": []
  }
 ],
 "metadata": {
  "kernelspec": {
   "display_name": "Python 3 (ipykernel)",
   "language": "python",
   "name": "python3"
  },
  "language_info": {
   "codemirror_mode": {
    "name": "ipython",
    "version": 3
   },
   "file_extension": ".py",
   "mimetype": "text/x-python",
   "name": "python",
   "nbconvert_exporter": "python",
   "pygments_lexer": "ipython3",
   "version": "3.12.10"
  }
 },
 "nbformat": 4,
 "nbformat_minor": 5
}
